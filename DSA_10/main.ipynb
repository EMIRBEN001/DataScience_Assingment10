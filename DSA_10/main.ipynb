{
 "cells": [
  {
   "cell_type": "code",
   "execution_count": 103,
   "metadata": {},
   "outputs": [],
   "source": [
    "import pandas as pd\n",
    "from math import sqrt\n",
    "import numpy as np"
   ]
  },
  {
   "cell_type": "code",
   "execution_count": 104,
   "metadata": {},
   "outputs": [
    {
     "name": "stdout",
     "output_type": "stream",
     "text": [
      "<class 'pandas.core.frame.DataFrame'>\n",
      "RangeIndex: 12294 entries, 0 to 12293\n",
      "Data columns (total 7 columns):\n",
      " #   Column    Non-Null Count  Dtype  \n",
      "---  ------    --------------  -----  \n",
      " 0   anime_id  12294 non-null  int64  \n",
      " 1   name      12294 non-null  object \n",
      " 2   genre     12232 non-null  object \n",
      " 3   type      12269 non-null  object \n",
      " 4   episodes  12294 non-null  object \n",
      " 5   rating    12064 non-null  float64\n",
      " 6   members   12294 non-null  int64  \n",
      "dtypes: float64(1), int64(2), object(4)\n",
      "memory usage: 672.5+ KB\n",
      "None\n"
     ]
    }
   ],
   "source": [
    "anime_df = pd.read_csv('anime.csv')\n",
    "rating_df = pd.read_csv('rating.csv')\n",
    "print(anime_df.info())"
   ]
  },
  {
   "cell_type": "code",
   "execution_count": 105,
   "metadata": {},
   "outputs": [
    {
     "name": "stdout",
     "output_type": "stream",
     "text": [
      "                                       name  rating\n",
      "0            Mobile Suit Gundam: The Origin    8.42\n",
      "1                Mobile Suit Gundam Unicorn    8.40\n",
      "2            Mobile Suit Gundam Thunderbolt    8.00\n",
      "3  Mobile Suit Gundam: Iron-Blooded Orphans    7.96\n",
      "4                             Turn A Gundam    7.76\n"
     ]
    }
   ],
   "source": [
    "userInput = [{'name':'Mobile Suit Gundam: The Origin', 'rating':8.42},\n",
    "             {'name':'Mobile Suit Gundam Unicorn', 'rating':8.4},\n",
    "             {'name':'Mobile Suit Gundam Thunderbolt', 'rating':8},\n",
    "             {'name':'Mobile Suit Gundam: Iron-Blooded Orphans', 'rating':7.96},\n",
    "             {'name':'Turn A Gundam', 'rating':7.76}]\n",
    "inputAnimes = pd.DataFrame(userInput)\n",
    "print(inputAnimes)"
   ]
  },
  {
   "cell_type": "code",
   "execution_count": 106,
   "metadata": {},
   "outputs": [
    {
     "name": "stdout",
     "output_type": "stream",
     "text": [
      "   anime_id                                      name  rating\n",
      "0     10937            Mobile Suit Gundam: The Origin    8.42\n",
      "1      6336                Mobile Suit Gundam Unicorn    8.40\n",
      "2     31973            Mobile Suit Gundam Thunderbolt    8.00\n",
      "3     31251  Mobile Suit Gundam: Iron-Blooded Orphans    7.96\n",
      "4        95                             Turn A Gundam    7.76\n"
     ]
    }
   ],
   "source": [
    "inputId = anime_df[anime_df['name'].isin(inputAnimes['name'].tolist())]\n",
    "inputAnimes = pd.merge(inputId, inputAnimes)\n",
    "inputAnimes = inputAnimes[['anime_id','name','rating']]\n",
    "print(inputAnimes)"
   ]
  },
  {
   "cell_type": "code",
   "execution_count": 107,
   "metadata": {},
   "outputs": [
    {
     "name": "stdout",
     "output_type": "stream",
     "text": [
      "          user_id  rating\n",
      "anime_id                 \n",
      "95            489     489\n",
      "6336          838     838\n",
      "31251        1207    1207\n",
      "31973         304     304\n"
     ]
    }
   ],
   "source": [
    "userSubset = rating_df[rating_df['anime_id'].isin(inputAnimes['anime_id'].tolist())]\n",
    "print(userSubset.groupby('anime_id').count())"
   ]
  },
  {
   "cell_type": "code",
   "execution_count": 108,
   "metadata": {},
   "outputs": [
    {
     "name": "stdout",
     "output_type": "stream",
     "text": [
      "[((31251,),          user_id  anime_id  rating\n",
      "3813          39     31251      -1\n",
      "5988          54     31251      -1\n",
      "9966         123     31251      10\n",
      "13248        166     31251       8\n",
      "15444        198     31251      -1\n",
      "...          ...       ...     ...\n",
      "7763833    73099     31251      10\n",
      "7778924    73206     31251      10\n",
      "7779003    73208     31251       6\n",
      "7781934    73234     31251       6\n",
      "7789323    73288     31251      10\n",
      "\n",
      "[1207 rows x 3 columns]), ((6336,),          user_id  anime_id  rating\n",
      "8919         109      6336      10\n",
      "18775        234      6336       7\n",
      "21554        261      6336       7\n",
      "31663        352      6336       8\n",
      "39601        435      6336       9\n",
      "...          ...       ...     ...\n",
      "7769119    73135      6336       8\n",
      "7778805    73206      6336       9\n",
      "7781527    73234      6336       8\n",
      "7783991    73255      6336       8\n",
      "7792648    73320      6336       8\n",
      "\n",
      "[838 rows x 3 columns]), ((95,),          user_id  anime_id  rating\n",
      "14111        183        95       9\n",
      "19905        247        95       6\n",
      "42961        460        95       8\n",
      "63732        661        95       6\n",
      "104167      1063        95       9\n",
      "...          ...       ...     ...\n",
      "7762314    73086        95       7\n",
      "7762922    73092        95       4\n",
      "7771303    73155        95       7\n",
      "7784054    73257        95       8\n",
      "7792502    73320        95       8\n",
      "\n",
      "[489 rows x 3 columns]), ((31973,),          user_id  anime_id  rating\n",
      "9990         123     31973       7\n",
      "15475        198     31973      -1\n",
      "46002        488     31973       7\n",
      "47139        497     31973       8\n",
      "107305      1106     31973       8\n",
      "...          ...       ...     ...\n",
      "7534452    70544     31973       8\n",
      "7535433    70548     31973       7\n",
      "7742392    72863     31973      -1\n",
      "7751969    72959     31973      -1\n",
      "7802686    73395     31973      10\n",
      "\n",
      "[304 rows x 3 columns])]\n"
     ]
    }
   ],
   "source": [
    "#Groupby creates several sub dataframes where they all have the same value in the column specified as the parameter\n",
    "userSubsetGroup = userSubset.groupby(['anime_id'])\n",
    "\n",
    "def take_5_elem(x):\n",
    "    # print (len(x[1]))\n",
    "    return len(x[1])\n",
    "    \n",
    "\n",
    "#Sorting it so users with movie most in common with the input will have priority\n",
    "userSubsetGroup = sorted(userSubsetGroup, key=take_5_elem, reverse=True)\n",
    "\n",
    "userSubsetGroup = userSubsetGroup[0:100]\n",
    "print(userSubsetGroup[0:5])"
   ]
  },
  {
   "cell_type": "code",
   "execution_count": 109,
   "metadata": {},
   "outputs": [],
   "source": [
    "#Store the Pearson Correlation in a dictionary, where the key is the user Id and the value is the coefficient\n",
    "pearsonCorrelationDict = {}\n",
    "\n",
    "#For every user group in our subset\n",
    "for name, group in userSubsetGroup:\n",
    "\n",
    "    #Let's start by sorting the input and current user group so the values aren't mixed up later on\n",
    "    group = group.sort_values(by='anime_id')\n",
    "    inputAnimes = inputAnimes.sort_values(by='anime_id')\n",
    "\n",
    "    #Get the N for the formula\n",
    "    nRatings = len(group)\n",
    "\n",
    "    #Get the review scores for the movies that they both have in common\n",
    "    temp_df = inputAnimes[inputAnimes['anime_id'].isin(group['anime_id'].tolist())]\n",
    "\n",
    "    #And then store them in a temporary buffer variable in a list format to facilitate future calculations\n",
    "    tempRatingList = temp_df['rating'].tolist()\n",
    "   \n",
    "    #Let's also put the current user group reviews in a list format\n",
    "    tempGroupList = group['rating'].tolist()\n",
    "   \n",
    "    \n",
    "    #Now let's calculate the pearson correlation between two users, so called, x and y manually (check the formula from week 7 slide)\n",
    "    Sxx = sum([i**2 for i in tempRatingList]) - pow(sum(tempRatingList),2)/float(nRatings)\n",
    "    Syy = sum([i**2 for i in tempGroupList]) - pow(sum(tempGroupList),2)/float(nRatings)\n",
    "    Sxy = sum( i*j for i, j in zip(tempRatingList, tempGroupList)) - sum(tempRatingList)*sum(tempGroupList)/float(nRatings)\n",
    "\n",
    "    #If the denominator is different than zero, then divide, else, 0 correlation.\n",
    "    if Sxx != 0 and Syy != 0:\n",
    "        pearsonCorrelationDict[name] = Sxy/sqrt(Sxx*Syy)\n",
    "    else:\n",
    "        pearsonCorrelationDict[name] = 0"
   ]
  },
  {
   "cell_type": "code",
   "execution_count": 110,
   "metadata": {},
   "outputs": [
    {
     "name": "stdout",
     "output_type": "stream",
     "text": [
      "   similarityIndex   user_id\n",
      "0        -0.061062  (31251,)\n",
      "1         0.028134   (6336,)\n",
      "2         0.036062     (95,)\n",
      "3         0.010786  (31973,)\n"
     ]
    }
   ],
   "source": [
    "pearsonDF = pd.DataFrame.from_dict(pearsonCorrelationDict, orient='index')\n",
    "pearsonDF.columns = ['similarityIndex']\n",
    "pearsonDF['user_id'] = pearsonDF.index\n",
    "pearsonDF.index = range(len(pearsonDF))\n",
    "print(pearsonDF.head())"
   ]
  },
  {
   "cell_type": "code",
   "execution_count": 111,
   "metadata": {},
   "outputs": [
    {
     "name": "stdout",
     "output_type": "stream",
     "text": [
      "   similarityIndex   user_id\n",
      "2         0.036062     (95,)\n",
      "1         0.028134   (6336,)\n",
      "3         0.010786  (31973,)\n",
      "0        -0.061062  (31251,)\n"
     ]
    }
   ],
   "source": [
    "topUsers=pearsonDF.sort_values(by='similarityIndex', ascending=False)[0:50]\n",
    "print(topUsers.head())"
   ]
  },
  {
   "cell_type": "code",
   "execution_count": 112,
   "metadata": {},
   "outputs": [
    {
     "name": "stderr",
     "output_type": "stream",
     "text": [
      "<>:2: SyntaxWarning: invalid escape sequence '\\d'\n",
      "<>:2: SyntaxWarning: invalid escape sequence '\\d'\n",
      "C:\\Users\\elijah\\AppData\\Local\\Temp\\ipykernel_12308\\1721819050.py:2: SyntaxWarning: invalid escape sequence '\\d'\n",
      "  topUsers['user_id'] = topUsers['user_id'].astype(str).str.extract('(\\d+)').astype('int64')\n"
     ]
    },
    {
     "name": "stdout",
     "output_type": "stream",
     "text": [
      "    similarityIndex  user_id  anime_id  rating\n",
      "0          0.036062       95        20       7\n",
      "1          0.036062       95        43       8\n",
      "2          0.036062       95       164       9\n",
      "3          0.036062       95       185       6\n",
      "4          0.036062       95       186       6\n",
      "..              ...      ...       ...     ...\n",
      "95         0.036062       95     16417      10\n",
      "96         0.036062       95     16592      -1\n",
      "97         0.036062       95     18229      -1\n",
      "98         0.028134     6336         1       9\n",
      "99         0.028134     6336         5       8\n",
      "\n",
      "[100 rows x 4 columns]\n"
     ]
    }
   ],
   "source": [
    "# The Datatypes needed to be change due to the incompatibily of doing the \".merge\"\n",
    "topUsers['user_id'] = topUsers['user_id'].astype(str).str.extract('(\\d+)').astype('int64')\n",
    "\n",
    "topUsersRating = pd.merge(topUsers, rating_df, on='user_id', how='inner')\n",
    "print(topUsersRating.head(100))"
   ]
  },
  {
   "cell_type": "code",
   "execution_count": 113,
   "metadata": {},
   "outputs": [
    {
     "name": "stdout",
     "output_type": "stream",
     "text": [
      "   similarityIndex  user_id  anime_id  rating  weightedRating\n",
      "0         0.036062       95        20       7        0.252434\n",
      "1         0.036062       95        43       8        0.288496\n",
      "2         0.036062       95       164       9        0.324558\n",
      "3         0.036062       95       185       6        0.216372\n",
      "4         0.036062       95       186       6        0.216372\n"
     ]
    }
   ],
   "source": [
    "#Multiplies the similarity by the user’s ratings\n",
    "topUsersRating['weightedRating'] = topUsersRating['similarityIndex']*topUsersRating['rating']\n",
    "print(topUsersRating.head())"
   ]
  },
  {
   "cell_type": "code",
   "execution_count": 114,
   "metadata": {},
   "outputs": [
    {
     "name": "stdout",
     "output_type": "stream",
     "text": [
      "          sum_similarityIndex  sum_weightedRating\n",
      "anime_id                                         \n",
      "1                   -0.032928            0.314266\n",
      "5                   -0.032928            0.286132\n",
      "6                    0.028134            0.225070\n",
      "15                   0.038920            0.332933\n",
      "20                   0.003134            0.482299\n"
     ]
    }
   ],
   "source": [
    "#Applies a sum to the topUsers after grouping it up by movieId\n",
    "tempTopUsersRating = topUsersRating.groupby('anime_id').sum()[['similarityIndex','weightedRating']]\n",
    "tempTopUsersRating.columns = ['sum_similarityIndex','sum_weightedRating']\n",
    "print(tempTopUsersRating.head())"
   ]
  },
  {
   "cell_type": "code",
   "execution_count": 115,
   "metadata": {},
   "outputs": [
    {
     "name": "stdout",
     "output_type": "stream",
     "text": [
      "          weighted average recommendation score  anime_id\n",
      "anime_id                                                 \n",
      "1                                     -9.543934         1\n",
      "5                                     -8.689541         5\n",
      "6                                      8.000000         6\n",
      "15                                     8.554278        15\n",
      "20                                   153.908381        20\n",
      "30                                    -6.126361        30\n",
      "31                                    -1.000000        31\n",
      "32                                    -1.000000        32\n",
      "43                                   -13.982282        43\n",
      "44                                     9.000000        44\n"
     ]
    }
   ],
   "source": [
    "#Creates an empty dataframe\n",
    "recommendation_df = pd.DataFrame()\n",
    "\n",
    "#Taking the Weighted average\n",
    "recommendation_df['weighted average recommendation score'] = tempTopUsersRating['sum_weightedRating']/tempTopUsersRating['sum_similarityIndex']\n",
    "recommendation_df['anime_id'] = tempTopUsersRating.index\n",
    "print(recommendation_df.head(10))"
   ]
  },
  {
   "cell_type": "code",
   "execution_count": 116,
   "metadata": {},
   "outputs": [
    {
     "name": "stdout",
     "output_type": "stream",
     "text": [
      "          weighted average recommendation score  anime_id\n",
      "anime_id                                                 \n",
      "9756                                 158.968419      9756\n",
      "20                                   153.908381        20\n",
      "19815                                 10.000000     19815\n",
      "4181                                  10.000000      4181\n",
      "550                                   10.000000       550\n",
      "...                                         ...       ...\n",
      "199                                  -16.867233       199\n",
      "14513                                -17.793937     14513\n",
      "1575                                 -19.064538      1575\n",
      "10620                                -32.181407     10620\n",
      "11111                                -37.255624     11111\n",
      "\n",
      "[247 rows x 2 columns]\n"
     ]
    }
   ],
   "source": [
    "recommendation_df = recommendation_df.sort_values(by='weighted average recommendation score', ascending=False)\n",
    "print(recommendation_df)"
   ]
  },
  {
   "cell_type": "code",
   "execution_count": 117,
   "metadata": {},
   "outputs": [
    {
     "name": "stdout",
     "output_type": "stream",
     "text": [
      "       anime_id                                name  \\\n",
      "1          5114    Fullmetal Alchemist: Brotherhood   \n",
      "3          9253                         Steins;Gate   \n",
      "10         4181                Clannad: After Story   \n",
      "13         2904  Code Geass: Hangyaku no Lelouch R2   \n",
      "15          199       Sen to Chihiro no Kamikakushi   \n",
      "...         ...                                 ...   \n",
      "6396       8939                   Bohemian Rhapsody   \n",
      "6971       1442                     Alexander Senki   \n",
      "11118      2238                        Fuyu no Semi   \n",
      "11139       719                        Ai no Kusabi   \n",
      "12096       724                               Enzai   \n",
      "\n",
      "                                                   genre   type episodes  \\\n",
      "1      Action, Adventure, Drama, Fantasy, Magic, Mili...     TV       64   \n",
      "3                                       Sci-Fi, Thriller     TV       24   \n",
      "10     Drama, Fantasy, Romance, Slice of Life, Supern...     TV       24   \n",
      "13     Action, Drama, Mecha, Military, Sci-Fi, Super ...     TV       25   \n",
      "15                        Adventure, Drama, Supernatural  Movie        1   \n",
      "...                                                  ...    ...      ...   \n",
      "6396                                Music, Sci-Fi, Space  Music        1   \n",
      "6971   Action, Adventure, Fantasy, Historical, Sci-Fi...     TV       13   \n",
      "11118          Drama, Historical, Romance, Samurai, Yaoi    OVA        3   \n",
      "11139                       Drama, Romance, Sci-Fi, Yaoi    OVA        2   \n",
      "12096                               Hentai, Horror, Yaoi    OVA        2   \n",
      "\n",
      "       rating  members  \n",
      "1        9.26   793665  \n",
      "3        9.17   673572  \n",
      "10       9.06   456749  \n",
      "13       8.98   572888  \n",
      "15       8.93   466254  \n",
      "...       ...      ...  \n",
      "6396     6.13     3005  \n",
      "6971     5.81     4014  \n",
      "11118    7.74    12270  \n",
      "11139    7.37    20964  \n",
      "12096    5.55    13711  \n",
      "\n",
      "[247 rows x 7 columns]\n"
     ]
    }
   ],
   "source": [
    "recommended_anime=anime_df.loc[anime_df['anime_id'].isin(recommendation_df['anime_id'])]\n",
    "\n",
    "#we don't want to recommend the same movie\n",
    "recommended_anime=recommended_anime.loc[~recommended_anime.anime_id.isin(userSubset['anime_id'])]\n",
    "\n",
    "print(recommended_anime)"
   ]
  }
 ],
 "metadata": {
  "kernelspec": {
   "display_name": "Python 3",
   "language": "python",
   "name": "python3"
  },
  "language_info": {
   "codemirror_mode": {
    "name": "ipython",
    "version": 3
   },
   "file_extension": ".py",
   "mimetype": "text/x-python",
   "name": "python",
   "nbconvert_exporter": "python",
   "pygments_lexer": "ipython3",
   "version": "3.12.0"
  }
 },
 "nbformat": 4,
 "nbformat_minor": 2
}
